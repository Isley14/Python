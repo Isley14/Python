{
  "nbformat": 4,
  "nbformat_minor": 0,
  "metadata": {
    "colab": {
      "provenance": [],
      "authorship_tag": "ABX9TyMkPkJUtw3Sn7n4yAOI8aWo",
      "include_colab_link": true
    },
    "kernelspec": {
      "name": "python3",
      "display_name": "Python 3"
    },
    "language_info": {
      "name": "python"
    }
  },
  "cells": [
    {
      "cell_type": "markdown",
      "metadata": {
        "id": "view-in-github",
        "colab_type": "text"
      },
      "source": [
        "<a href=\"https://colab.research.google.com/github/Isley14/Python/blob/main/AE2_ABP.ipynb\" target=\"_parent\"><img src=\"https://colab.research.google.com/assets/colab-badge.svg\" alt=\"Open In Colab\"/></a>"
      ]
    },
    {
      "cell_type": "code",
      "execution_count": 6,
      "metadata": {
        "colab": {
          "base_uri": "https://localhost:8080/"
        },
        "id": "lfHgZ28YM93T",
        "outputId": "9ccbe881-c5d9-48da-90bf-6f51dbd50b61"
      },
      "outputs": [
        {
          "output_type": "stream",
          "name": "stdout",
          "text": [
            "=== CREANDO TARJETAS ===\n",
            "Tarjeta 1 creada\n",
            "Tarjeta 2 creada\n",
            "Tarjeta 3 creada\n",
            "\n",
            "=== OPERACIONES CON LAS TARJETAS ===\n",
            "Tarjeta 1 - 2 compras, 1 pago, cobrar intereses:\n",
            "Saldo a Pagar: $306.0\n",
            "\n",
            "Tarjeta 2 - 3 compras, 2 pagos, cobrar intereses:\n",
            "Saldo a Pagar: $659.75\n",
            "\n",
            "Tarjeta 3 - 5 compras (excediendo límite):\n",
            "Tarjeta Rechazada, has alcanzado tu límite de crédito\n",
            "Tarjeta Rechazada, has alcanzado tu límite de crédito\n",
            "Saldo a Pagar: $450\n",
            "\n",
            "\n",
            "=== INFORMACIÓN DE TODAS LAS TARJETAS ===\n",
            "Tarjeta 1:\n",
            "  Saldo a Pagar: $306.0\n",
            "  Límite de Crédito: $1000\n",
            "  Intereses: 2.0%\n",
            "\n",
            "Tarjeta 2:\n",
            "  Saldo a Pagar: $659.75\n",
            "  Límite de Crédito: $2000\n",
            "  Intereses: 1.5%\n",
            "\n",
            "Tarjeta 3:\n",
            "  Saldo a Pagar: $450\n",
            "  Límite de Crédito: $500\n",
            "  Intereses: 3.0%\n",
            "\n"
          ]
        }
      ],
      "source": [
        "class TarjetaCredito:\n",
        "    todas_las_tarjetas = []\n",
        "\n",
        "    def __init__(self, limite_credito, intereses, saldo_pagar=0):\n",
        "        self.saldo_pagar = saldo_pagar\n",
        "        self.limite_credito = limite_credito\n",
        "        self.intereses = intereses\n",
        "        TarjetaCredito.todas_las_tarjetas.append(self)\n",
        "\n",
        "    def compra(self, monto):\n",
        "        if self.saldo_pagar + monto > self.limite_credito:\n",
        "            print(\"Tarjeta Rechazada, has alcanzado tu límite de crédito\")\n",
        "        else:\n",
        "            self.saldo_pagar += monto\n",
        "        return self\n",
        "\n",
        "    def pago(self, monto):\n",
        "        self.saldo_pagar -= monto\n",
        "        if self.saldo_pagar < 0:\n",
        "            self.saldo_pagar = 0\n",
        "        return self\n",
        "\n",
        "    def mostrar_info_tarjeta(self):\n",
        "        print(f\"Saldo a Pagar: ${self.saldo_pagar}\")\n",
        "        return self\n",
        "\n",
        "    def cobrar_interes(self):\n",
        "        self.saldo_pagar += self.saldo_pagar * self.intereses\n",
        "        return self\n",
        "\n",
        "    @classmethod\n",
        "    def mostrar_todas_las_tarjetas(cls):\n",
        "        print(\"\\n=== INFORMACIÓN DE TODAS LAS TARJETAS ===\")\n",
        "        for i, tarjeta in enumerate(cls.todas_las_tarjetas, 1):\n",
        "            print(f\"Tarjeta {i}:\")\n",
        "            print(f\"  Saldo a Pagar: ${tarjeta.saldo_pagar}\")\n",
        "            print(f\"  Límite de Crédito: ${tarjeta.limite_credito}\")\n",
        "            print(f\"  Intereses: {tarjeta.intereses * 100}%\")\n",
        "            print()\n",
        "\n",
        "# === CREACIÓN DE LAS 3 TARJETAS ===\n",
        "print(\"=== CREANDO TARJETAS ===\")\n",
        "\n",
        "# Tarjeta 1: límite $1000, interés 2% (0.02)\n",
        "tarjeta1 = TarjetaCredito(1000, 0.02)\n",
        "print(\"Tarjeta 1 creada\")\n",
        "\n",
        "# Tarjeta 2: límite $2000, interés 1.5% (0.015)\n",
        "tarjeta2 = TarjetaCredito(2000, 0.015)\n",
        "print(\"Tarjeta 2 creada\")\n",
        "\n",
        "# Tarjeta 3: límite $500, interés 3% (0.03)\n",
        "tarjeta3 = TarjetaCredito(500, 0.03)\n",
        "print(\"Tarjeta 3 creada\")\n",
        "\n",
        "print(\"\\n=== OPERACIONES CON LAS TARJETAS ===\")\n",
        "\n",
        "# === TARJETA 1: 2 compras, 1 pago, cobrar intereses, mostrar info ===\n",
        "print(\"Tarjeta 1 - 2 compras, 1 pago, cobrar intereses:\")\n",
        "tarjeta1.compra(200).compra(150).pago(50).cobrar_interes().mostrar_info_tarjeta()\n",
        "\n",
        "print()\n",
        "\n",
        "# === TARJETA 2: 3 compras, 2 pagos, cobrar intereses, mostrar info ===\n",
        "print(\"Tarjeta 2 - 3 compras, 2 pagos, cobrar intereses:\")\n",
        "tarjeta2.compra(300).compra(250).compra(400).pago(100).pago(200).cobrar_interes().mostrar_info_tarjeta()\n",
        "\n",
        "print()\n",
        "\n",
        "# === TARJETA 3: 5 compras (excediendo límite), mostrar info ===\n",
        "print(\"Tarjeta 3 - 5 compras (excediendo límite):\")\n",
        "tarjeta3.compra(100).compra(150).compra(200).compra(100).compra(200).mostrar_info_tarjeta()\n",
        "\n",
        "print()\n",
        "\n",
        "# === BONUS: Mostrar información de todas las tarjetas ===\n",
        "TarjetaCredito.mostrar_todas_las_tarjetas()"
      ]
    }
  ]
}